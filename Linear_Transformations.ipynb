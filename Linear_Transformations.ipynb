{
  "nbformat": 4,
  "nbformat_minor": 0,
  "metadata": {
    "colab": {
      "provenance": [],
      "authorship_tag": "ABX9TyMi5PsCabIGe4Qv3QW01phh",
      "include_colab_link": true
    },
    "kernelspec": {
      "name": "python3",
      "display_name": "Python 3"
    },
    "language_info": {
      "name": "python"
    }
  },
  "cells": [
    {
      "cell_type": "markdown",
      "metadata": {
        "id": "view-in-github",
        "colab_type": "text"
      },
      "source": [
        "<a href=\"https://colab.research.google.com/github/Aman05gupta/Linear-Transformations-and-Systems-of-Linear-Equations/blob/main/Linear_Transformations.ipynb\" target=\"_parent\"><img src=\"https://colab.research.google.com/assets/colab-badge.svg\" alt=\"Open In Colab\"/></a>"
      ]
    },
    {
      "cell_type": "code",
      "execution_count": null,
      "metadata": {
        "id": "4jDK9Ift6Axx"
      },
      "outputs": [],
      "source": []
    },
    {
      "cell_type": "markdown",
      "source": [
        "# Linear Transformations\n",
        "\n",
        "**Simple Linear Transformation** in 𝑅^2 : a linear transformation\n",
        "𝑇\n",
        " represented by the matrix\n",
        "𝐴\n",
        "\n"
      ],
      "metadata": {
        "id": "JzTYCgem6Jkq"
      }
    },
    {
      "cell_type": "code",
      "source": [
        "import numpy as np"
      ],
      "metadata": {
        "id": "eN9O9PLg6LlB"
      },
      "execution_count": 1,
      "outputs": []
    },
    {
      "cell_type": "code",
      "source": [
        "# Define the matrix A\n",
        "A = np.array([[2, 0], [0, 3]])\n",
        "\n",
        "# Define the vector x\n",
        "x = np.array([1, 2])  # Example vector\n",
        "\n"
      ],
      "metadata": {
        "id": "OtokR7Ns65eU"
      },
      "execution_count": 2,
      "outputs": []
    },
    {
      "cell_type": "code",
      "source": [
        "# Perform the linear transformation\n",
        "T_x = np.dot(A, x)\n",
        "print(\"Linear Transformation T(x):\", T_x)"
      ],
      "metadata": {
        "colab": {
          "base_uri": "https://localhost:8080/"
        },
        "id": "kUE88r1p69CC",
        "outputId": "5babcc75-bcf2-4b24-e667-64bef3fb23b6"
      },
      "execution_count": 3,
      "outputs": [
        {
          "output_type": "stream",
          "name": "stdout",
          "text": [
            "Linear Transformation T(x): [2 6]\n"
          ]
        }
      ]
    },
    {
      "cell_type": "code",
      "source": [],
      "metadata": {
        "id": "h-u1wJYF7UJ6"
      },
      "execution_count": null,
      "outputs": []
    },
    {
      "cell_type": "markdown",
      "source": [
        "##   Rotation in\n",
        "𝑅^2\n",
        "\n",
        "\n",
        "A common linear transformation is a rotation. The rotation matrix for an angle\n",
        "𝜃.\n",
        "\n",
        "Let's rotate a vector by 45 degrees (\n",
        "θ=π/4):"
      ],
      "metadata": {
        "id": "O2brGsmM7ZTV"
      }
    },
    {
      "cell_type": "code",
      "source": [
        "# Define the rotation angle theta (in radians)\n",
        "theta = np.pi / 4  # 45 degrees\n",
        "\n",
        "# Define the rotation matrix R\n",
        "R = np.array([[np.cos(theta), -np.sin(theta)],\n",
        "              [np.sin(theta), np.cos(theta)]])\n",
        "\n"
      ],
      "metadata": {
        "id": "0pH-TYoD7frP"
      },
      "execution_count": 4,
      "outputs": []
    },
    {
      "cell_type": "code",
      "source": [
        "# Define the vector x\n",
        "x = np.array([1, 0])  # Example vector\n",
        "\n",
        "# Perform the linear transformation (rotation)\n",
        "T_x = np.dot(R, x)\n",
        "print(\"Rotated vector T(x):\", T_x)\n"
      ],
      "metadata": {
        "colab": {
          "base_uri": "https://localhost:8080/"
        },
        "id": "LHn7X__s70Ty",
        "outputId": "008e7517-fefc-45bf-d823-31b753c59e8c"
      },
      "execution_count": 5,
      "outputs": [
        {
          "output_type": "stream",
          "name": "stdout",
          "text": [
            "Rotated vector T(x): [0.70710678 0.70710678]\n"
          ]
        }
      ]
    },
    {
      "cell_type": "markdown",
      "source": [
        "# Scaling in 𝑅^3\n",
        "A scaling transformation in 𝑅^3 can be represented by a diagonal matrix"
      ],
      "metadata": {
        "id": "IDljvvG88BFm"
      }
    },
    {
      "cell_type": "code",
      "source": [
        "# Define the scaling matrix A\n",
        "A = np.array([[2, 0, 0],\n",
        "              [0, 3, 0],\n",
        "              [0, 0, 4]])\n",
        "\n",
        "\n"
      ],
      "metadata": {
        "id": "iJ2YCtr871qP"
      },
      "execution_count": 6,
      "outputs": []
    },
    {
      "cell_type": "code",
      "source": [
        "# Define the vector x\n",
        "x = np.array([1, 1, 1])  # Example vector\n",
        "\n",
        "# Perform the linear transformation (scaling)\n",
        "T_x = np.dot(A, x)\n",
        "print(\"Scaled vector T(x):\", T_x)"
      ],
      "metadata": {
        "colab": {
          "base_uri": "https://localhost:8080/"
        },
        "id": "4VeSFpWf8Qbq",
        "outputId": "0b7d9842-384e-4c2f-99bc-766fa278cc38"
      },
      "execution_count": 7,
      "outputs": [
        {
          "output_type": "stream",
          "name": "stdout",
          "text": [
            "Scaled vector T(x): [2 3 4]\n"
          ]
        }
      ]
    },
    {
      "cell_type": "code",
      "source": [],
      "metadata": {
        "id": "J4kLv3R68Q4G"
      },
      "execution_count": null,
      "outputs": []
    },
    {
      "cell_type": "code",
      "source": [],
      "metadata": {
        "id": "CGWboUmg8Xtz"
      },
      "execution_count": null,
      "outputs": []
    },
    {
      "cell_type": "markdown",
      "source": [
        "# Systems of linear equations\n",
        "\n",
        "---\n",
        "### Basics of Systems of Linear Equations\n",
        "A system of linear equations can be written in matrix form as:\n",
        "\n",
        "𝐴\n",
        "𝑥\n",
        "=\n",
        "𝑏\n",
        "\n",
        "\n",
        "where:\n",
        "\n",
        "* 𝐴\n",
        "is a matrix of coefficients.\n",
        "\n",
        "* 𝑥\n",
        " is the vector of unknowns.\n",
        "\n",
        "* 𝑏\n",
        " is the vector of constants.\n"
      ],
      "metadata": {
        "id": "_6GyQtib8YZu"
      }
    },
    {
      "cell_type": "markdown",
      "source": [
        "## Simple System of Linear Equations"
      ],
      "metadata": {
        "id": "k5lWeuaJ80XC"
      }
    },
    {
      "cell_type": "code",
      "source": [
        "# Define the coefficient matrix A\n",
        "A = np.array([[1, 2], [3, 4]])"
      ],
      "metadata": {
        "id": "yvllYwPk8ZL-"
      },
      "execution_count": 8,
      "outputs": []
    },
    {
      "cell_type": "code",
      "source": [
        "# Define the constant vector b\n",
        "b = np.array([5, 11])"
      ],
      "metadata": {
        "id": "xA18PlkM87Dx"
      },
      "execution_count": 9,
      "outputs": []
    },
    {
      "cell_type": "code",
      "source": [
        "# Solve the system of linear equations A*x = b\n",
        "x_solution = np.linalg.solve(A, b)\n",
        "print(\"Solution of the system A*x = b:\", x_solution)"
      ],
      "metadata": {
        "colab": {
          "base_uri": "https://localhost:8080/"
        },
        "id": "9chFta5888yh",
        "outputId": "3ad80941-3dec-4fb0-a6d2-465c2c1e22f7"
      },
      "execution_count": 10,
      "outputs": [
        {
          "output_type": "stream",
          "name": "stdout",
          "text": [
            "Solution of the system A*x = b: [1. 2.]\n"
          ]
        }
      ]
    },
    {
      "cell_type": "markdown",
      "source": [
        "## Larger System of Linear Equations"
      ],
      "metadata": {
        "id": "Yy6KZeTX9AKH"
      }
    },
    {
      "cell_type": "code",
      "source": [
        "# Define the coefficient matrix A\n",
        "A = np.array([[2, 3, 1], [4, 1, -2], [3, 5, 4]])\n",
        "\n",
        "\n"
      ],
      "metadata": {
        "id": "WqXO0oHg89Lg"
      },
      "execution_count": 11,
      "outputs": []
    },
    {
      "cell_type": "code",
      "source": [
        "# Define the constant vector b\n",
        "b = np.array([1, 2, 3])\n"
      ],
      "metadata": {
        "id": "fkFJkMhL9FEc"
      },
      "execution_count": 13,
      "outputs": []
    },
    {
      "cell_type": "code",
      "source": [
        "# Solve the system of linear equations A*x = b\n",
        "x_solution = np.linalg.solve(A, b)\n",
        "print(\"Solution of the system A*x = b:\", x_solution)"
      ],
      "metadata": {
        "colab": {
          "base_uri": "https://localhost:8080/"
        },
        "id": "2IlJ_aXJ9G-J",
        "outputId": "aa1f9638-9029-42ba-a920-78e1800e7609"
      },
      "execution_count": 14,
      "outputs": [
        {
          "output_type": "stream",
          "name": "stdout",
          "text": [
            "Solution of the system A*x = b: [ 1.         -0.57142857  0.71428571]\n"
          ]
        }
      ]
    },
    {
      "cell_type": "markdown",
      "source": [
        "## Underdetermined System (More Variables than Equations)"
      ],
      "metadata": {
        "id": "Ph-mxtCi9XfZ"
      }
    },
    {
      "cell_type": "code",
      "source": [
        "# Define the coefficient matrix A\n",
        "A = np.array([[1, 1, 1], [2, 4, 1]])\n",
        "\n",
        "# Define the constant vector b\n",
        "b = np.array([1, 2])\n"
      ],
      "metadata": {
        "id": "Lbt42slV9Q-w"
      },
      "execution_count": 15,
      "outputs": []
    },
    {
      "cell_type": "code",
      "source": [
        "\n",
        "# Use least squares solution for underdetermined system\n",
        "x_solution, residuals, rank, s = np.linalg.lstsq(A, b, rcond=None)\n",
        "print(\"Least squares solution of the system A*x = b:\", x_solution)\n"
      ],
      "metadata": {
        "colab": {
          "base_uri": "https://localhost:8080/"
        },
        "id": "aHWFsMeo9gtK",
        "outputId": "ab1d60cc-0144-4ad5-f5ab-e41e139bd959"
      },
      "execution_count": 16,
      "outputs": [
        {
          "output_type": "stream",
          "name": "stdout",
          "text": [
            "Least squares solution of the system A*x = b: [0.35714286 0.21428571 0.42857143]\n"
          ]
        }
      ]
    },
    {
      "cell_type": "code",
      "source": [],
      "metadata": {
        "id": "wUEEYZaF9hBY"
      },
      "execution_count": null,
      "outputs": []
    }
  ]
}